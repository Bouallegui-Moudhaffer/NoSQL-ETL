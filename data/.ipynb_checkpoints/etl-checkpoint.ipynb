{
 "cells": [
  {
   "cell_type": "markdown",
   "id": "c0991301-07c2-4669-9b96-193d7b949819",
   "metadata": {},
   "source": [
    "# PART I"
   ]
  },
  {
   "cell_type": "code",
   "execution_count": 19,
   "id": "2161e088-d29a-4afd-a8cb-6220564e1329",
   "metadata": {},
   "outputs": [
    {
     "name": "stdout",
     "output_type": "stream",
     "text": [
      "Shape of DataFrame: (55500, 15)\n",
      "\n",
      "Column Names and Data Types:\n",
      "Name                   object\n",
      "Age                     int64\n",
      "Gender                 object\n",
      "Blood Type             object\n",
      "Medical Condition      object\n",
      "Date of Admission      object\n",
      "Doctor                 object\n",
      "Hospital               object\n",
      "Insurance Provider     object\n",
      "Billing Amount        float64\n",
      "Room Number             int64\n",
      "Admission Type         object\n",
      "Discharge Date         object\n",
      "Medication             object\n",
      "Test Results           object\n",
      "dtype: object\n",
      "\n",
      "First 5 rows of the dataset:\n",
      "            Name  Age  Gender Blood Type Medical Condition Date of Admission  \\\n",
      "0  Bobby JacksOn   30    Male         B-            Cancer        31/01/2024   \n",
      "1   LesLie TErRy   62    Male         A+           Obesity        20/08/2019   \n",
      "2    DaNnY sMitH   76  Female         A-           Obesity        22/09/2022   \n",
      "3   andrEw waTtS   28  Female         O+          Diabetes        18/11/2020   \n",
      "4  adrIENNE bEll   43  Female        AB+            Cancer        19/09/2022   \n",
      "\n",
      "             Doctor                    Hospital Insurance Provider  \\\n",
      "0     Matthew Smith             Sons and Miller         Blue Cross   \n",
      "1   Samantha Davies                     Kim Inc           Medicare   \n",
      "2  Tiffany Mitchell                    Cook PLC              Aetna   \n",
      "3       Kevin Wells  Hernandez Rogers and Vang,           Medicare   \n",
      "4    Kathleen Hanna                 White-White              Aetna   \n",
      "\n",
      "   Billing Amount  Room Number Admission Type Discharge Date   Medication  \\\n",
      "0    18856.281306          328         Urgent     02/02/2024  Paracetamol   \n",
      "1    33643.327287          265      Emergency     26/08/2019    Ibuprofen   \n",
      "2    27955.096079          205      Emergency     07/10/2022      Aspirin   \n",
      "3    37909.782410          450       Elective     18/12/2020    Ibuprofen   \n",
      "4    14238.317814          458         Urgent     09/10/2022   Penicillin   \n",
      "\n",
      "   Test Results  \n",
      "0        Normal  \n",
      "1  Inconclusive  \n",
      "2        Normal  \n",
      "3      Abnormal  \n",
      "4      Abnormal  \n"
     ]
    }
   ],
   "source": [
    "import pandas as pd\n",
    "\n",
    "# Load the dataset from the mounted volume\n",
    "file_path = 'healthcare_dataset-20250506.csv'\n",
    "df = pd.read_csv(file_path, sep=';')\n",
    "\n",
    "# 1) Show the overall shape (rows × columns)\n",
    "print(\"Shape of DataFrame:\", df.shape)\n",
    "\n",
    "# 2) List each column name with its data type\n",
    "print(\"\\nColumn Names and Data Types:\")\n",
    "print(df.dtypes)\n",
    "\n",
    "# 3) Display the first 5 rows as a quick sample\n",
    "print(\"\\nFirst 5 rows of the dataset:\")\n",
    "print(df.head())"
   ]
  },
  {
   "cell_type": "markdown",
   "id": "563e8956-852c-4d80-bc94-5104585072a0",
   "metadata": {},
   "source": [
    "# PART II"
   ]
  },
  {
   "cell_type": "code",
   "execution_count": 2,
   "id": "4498c327-aa71-4fcc-87ce-0dcc5811c506",
   "metadata": {},
   "outputs": [
    {
     "name": "stdout",
     "output_type": "stream",
     "text": [
      "Collecting pymongo\n",
      "  Downloading pymongo-4.13.0-cp311-cp311-manylinux_2_17_x86_64.manylinux2014_x86_64.whl.metadata (22 kB)\n",
      "Collecting dnspython<3.0.0,>=1.16.0 (from pymongo)\n",
      "  Downloading dnspython-2.7.0-py3-none-any.whl.metadata (5.8 kB)\n",
      "Downloading pymongo-4.13.0-cp311-cp311-manylinux_2_17_x86_64.manylinux2014_x86_64.whl (1.4 MB)\n",
      "\u001b[2K   \u001b[90m━━━━━━━━━━━━━━━━━━━━━━━━━━━━━━━━━━━━━━━━\u001b[0m \u001b[32m1.4/1.4 MB\u001b[0m \u001b[31m2.6 MB/s\u001b[0m eta \u001b[36m0:00:00\u001b[0m:00:01\u001b[0m00:01\u001b[0m\n",
      "\u001b[?25hDownloading dnspython-2.7.0-py3-none-any.whl (313 kB)\n",
      "\u001b[2K   \u001b[90m━━━━━━━━━━━━━━━━━━━━━━━━━━━━━━━━━━━━━━━━\u001b[0m \u001b[32m313.6/313.6 kB\u001b[0m \u001b[31m1.0 MB/s\u001b[0m eta \u001b[36m0:00:00\u001b[0m:00:01\u001b[0m\n",
      "\u001b[?25hInstalling collected packages: dnspython, pymongo\n",
      "Successfully installed dnspython-2.7.0 pymongo-4.13.0\n"
     ]
    }
   ],
   "source": [
    "!pip install pymongo"
   ]
  },
  {
   "cell_type": "code",
   "execution_count": 20,
   "id": "f54c9738-9992-4814-a9d8-77329da03e4c",
   "metadata": {},
   "outputs": [
    {
     "name": "stdout",
     "output_type": "stream",
     "text": [
      "Total patients in collection: 55500\n"
     ]
    }
   ],
   "source": [
    "from pymongo import MongoClient\n",
    "import os\n",
    "from datetime import datetime\n",
    "\n",
    "MONGO_USER = os.getenv(\"MONGO_INITDB_ROOT_USERNAME\", \"root\")\n",
    "MONGO_PASS = os.getenv(\"MONGO_INITDB_ROOT_PASSWORD\", \"password\")\n",
    "MONGO_HOST = os.getenv(\"MONGO_HOST\", \"mongo\")\n",
    "MONGO_DB   = \"healthcare\"\n",
    "\n",
    "mongo_uri = f\"mongodb://{MONGO_USER}:{MONGO_PASS}@{MONGO_HOST}:27017/\"\n",
    "client = MongoClient(mongo_uri)\n",
    "db = client[MONGO_DB]\n",
    "count = db.patients.count_documents({})\n",
    "print(\"Total patients in collection:\", count)"
   ]
  },
  {
   "cell_type": "code",
   "execution_count": 27,
   "id": "ac6aa577-fa3d-415b-b54a-cf7d21755f17",
   "metadata": {
    "scrolled": true
   },
   "outputs": [
    {
     "name": "stdout",
     "output_type": "stream",
     "text": [
      "Bobby JacksOn                  admitted 2024-01-31\n",
      "EMILY JOHNSOn                  admitted 2023-12-20\n",
      "aaRon MARtiNeZ                 admitted 2023-08-13\n",
      "tIMOTHY burNs                  admitted 2023-06-28\n",
      "cathy sMaLl                    admitted 2023-12-23\n",
      "jOSHUA OLiVer                  admitted 2023-10-03\n",
      "WilLIAM cOOPEr                 admitted 2023-05-18\n",
      "Erin oRTEga                    admitted 2023-05-24\n",
      "kyLE bEnneTT                   admitted 2023-09-09\n",
      "mIchael LiU                    admitted 2024-04-05\n",
      "TAmARa hErNAndez               admitted 2023-08-17\n",
      "mR. DAVID pIERce Md            admitted 2023-11-05\n",
      "beThaNY MoOrE                  admitted 2023-04-09\n",
      "Kim ScOtt                      admitted 2024-04-07\n",
      "jOhN hARTmAN                   admitted 2023-01-07\n",
      "MicHAEl MillEr                 admitted 2024-02-06\n",
      "kEVIn SiMmoNs Jr.              admitted 2023-12-28\n",
      "JONathAn yaTeS                 admitted 2023-07-24\n",
      "AdriaN BuckLEY                 admitted 2023-10-11\n",
      "tiMOThY myers                  admitted 2024-03-02\n"
     ]
    }
   ],
   "source": [
    "from datetime import datetime\n",
    "\n",
    "cutoff = datetime(2023, 1, 1)\n",
    "\n",
    "cursor = db.patients.find(\n",
    "    {\"date_of_admission\": {\"$gt\": cutoff}}\n",
    ").limit(20)\n",
    "\n",
    "for doc in cursor:\n",
    "    name = doc.get(\"name\", \"\")\n",
    "    doa = doc.get(\"date_of_admission\")\n",
    "    print(f\"{name:30s} admitted {doa.date()}\")"
   ]
  },
  {
   "cell_type": "code",
   "execution_count": 22,
   "id": "fe8e72b4-fb19-4cdd-b19e-5965f828e637",
   "metadata": {},
   "outputs": [
    {
     "name": "stdout",
     "output_type": "stream",
     "text": [
      "Patients older than 50: 28667\n"
     ]
    }
   ],
   "source": [
    "count_over_50 = db.patients.count_documents({\"age\": {\"$gt\": 50}})\n",
    "print(\"Patients older than 50:\", count_over_50)"
   ]
  },
  {
   "cell_type": "code",
   "execution_count": 23,
   "id": "d6495792-22ec-4c7d-8ee8-24eee71791df",
   "metadata": {},
   "outputs": [
    {
     "name": "stdout",
     "output_type": "stream",
     "text": [
      "Patients with first name 'Thomas': 397\n"
     ]
    }
   ],
   "source": [
    "thomas_count = db.patients.count_documents({\n",
    "    \"name\": {\"$regex\": r\"^Thomas\\s\", \"$options\": \"i\"}\n",
    "})\n",
    "print(\"Patients with first name 'Thomas':\", thomas_count)"
   ]
  },
  {
   "cell_type": "code",
   "execution_count": 24,
   "id": "4bdc313d-dde3-47cd-b96a-ac94de6d5126",
   "metadata": {},
   "outputs": [
    {
     "name": "stdout",
     "output_type": "stream",
     "text": [
      "Count per distinct medical condition:\n",
      "  Arthritis      : 9308\n",
      "  Asthma         : 9185\n",
      "  Cancer         : 9227\n",
      "  Diabetes       : 9304\n",
      "  Hypertension   : 9245\n",
      "  Obesity        : 9231\n"
     ]
    }
   ],
   "source": [
    "pipeline = [\n",
    "    {\"$group\": {\"_id\": \"$medical_condition\", \"count\": {\"$sum\": 1}}},\n",
    "    {\"$sort\": {\"_id\": 1}}\n",
    "]\n",
    "results = list(db.patients.aggregate(pipeline))\n",
    "\n",
    "print(\"Count per distinct medical condition:\")\n",
    "for r in results:\n",
    "    print(f\"  {r['_id']:15s}: {r['count']}\")"
   ]
  },
  {
   "cell_type": "code",
   "execution_count": 25,
   "id": "73747c29-8308-41e0-af61-a266f883b3b5",
   "metadata": {},
   "outputs": [
    {
     "name": "stdout",
     "output_type": "stream",
     "text": [
      "Medication usage counts:\n",
      "  Aspirin     : 11094\n",
      "  Ibuprofen   : 11127\n",
      "  Lipitor     : 11140\n",
      "  Paracetamol : 11071\n",
      "  Penicillin  : 11068\n"
     ]
    }
   ],
   "source": [
    "pipeline = [\n",
    "    {\"$group\": {\"_id\": \"$medication\", \"count\": {\"$sum\": 1}}},\n",
    "    {\"$sort\": {\"_id\": 1}}\n",
    "]\n",
    "results = list(db.patients.aggregate(pipeline))\n",
    "\n",
    "print(\"Medication usage counts:\")\n",
    "for r in results:\n",
    "    print(f\"  {r['_id']:12s}: {r['count']}\")"
   ]
  },
  {
   "cell_type": "code",
   "execution_count": 26,
   "id": "da1d3cb9-eb7e-4020-b08e-3375a08981da",
   "metadata": {},
   "outputs": [
    {
     "name": "stdout",
     "output_type": "stream",
     "text": [
      "Total Lipitor patients: 11140\n",
      "\n",
      "Sample Lipitor patients (first 5):\n",
      "  – aaRon MARtiNeZ, age 38, condition: Hypertension\n",
      "  – rObeRt bAuer, age 68, condition: Asthma\n",
      "  – ChRISToPHEr BRiGhT, age 48, condition: Asthma\n",
      "  – KatHRYn StewArt, age 58, condition: Arthritis\n",
      "  – dR. EilEEn thomPsoN, age 59, condition: Asthma\n"
     ]
    }
   ],
   "source": [
    "lipitor_cursor = db.patients.find({\"medication\": \"Lipitor\"})\n",
    "\n",
    "lipitor_list = list(lipitor_cursor)\n",
    "print(f\"Total Lipitor patients: {len(lipitor_list)}\\n\")\n",
    "\n",
    "print(\"Sample Lipitor patients (first 5):\")\n",
    "for doc in lipitor_list[:5]:\n",
    "    name = doc.get(\"name\", \"\")\n",
    "    age = doc.get(\"age\", \"\")\n",
    "    condition = doc.get(\"medical_condition\", \"\")\n",
    "    print(f\"  – {name}, age {age}, condition: {condition}\")"
   ]
  },
  {
   "cell_type": "code",
   "execution_count": null,
   "id": "01432926-b00e-4e77-ace1-5ee6c6815f9b",
   "metadata": {},
   "outputs": [],
   "source": []
  }
 ],
 "metadata": {
  "kernelspec": {
   "display_name": "Python 3 (ipykernel)",
   "language": "python",
   "name": "python3"
  },
  "language_info": {
   "codemirror_mode": {
    "name": "ipython",
    "version": 3
   },
   "file_extension": ".py",
   "mimetype": "text/x-python",
   "name": "python",
   "nbconvert_exporter": "python",
   "pygments_lexer": "ipython3",
   "version": "3.11.6"
  }
 },
 "nbformat": 4,
 "nbformat_minor": 5
}
